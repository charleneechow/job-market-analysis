{
 "cells": [
  {
   "cell_type": "code",
   "execution_count": null,
   "id": "86e17920",
   "metadata": {},
   "outputs": [],
   "source": [
    "import requests\n",
    "from bs4 import BeautifulSoup\n",
    "import pandas as pd"
   ]
  },
  {
   "cell_type": "code",
   "execution_count": null,
   "id": "7e458c0c",
   "metadata": {},
   "outputs": [],
   "source": [
    "# url = 'https://www.linkedin.com/jobs/collections/recommended/?currentJobId=4009725588&discover=recommended&discoveryOrigin=JOBS_HOME_JYMBII'"
   ]
  },
  {
   "cell_type": "code",
   "execution_count": null,
   "id": "700096b6",
   "metadata": {},
   "outputs": [],
   "source": [
    "response = requests.get(url)\n",
    "\n",
    "# Check if the request was successful\n",
    "if response.status_code == 200:\n",
    "    print(\"Successfully fetched the webpage\")\n",
    "else:\n",
    "    print(f\"Failed to fetch webpage. Status code: {response.status_code}\")"
   ]
  },
  {
   "cell_type": "code",
   "execution_count": null,
   "id": "c5091b01",
   "metadata": {},
   "outputs": [],
   "source": [
    "soup = BeautifulSoup(response.content, 'lxml')\n",
    "\n",
    "# Find job listings on the page\n",
    "job_listings = soup.find_all('div', class_='job-listing-class')  # Replace with actual HTML structure"
   ]
  },
  {
   "cell_type": "code",
   "execution_count": null,
   "id": "b407f7a7",
   "metadata": {},
   "outputs": [],
   "source": [
    "jobs = []\n",
    "\n",
    "for job in job_listings:\n",
    "    title = job.find('h2', class_='job-title').text\n",
    "    company = job.find('span', class_='company-name').text\n",
    "    location = job.find('span', class_='job-location').text\n",
    "    salary = job.find('span', class_='job-salary').text if job.find('span', class_='job-salary') else 'N/A'\n",
    "    \n",
    "    # Append the job details to the jobs list\n",
    "    jobs.append([title, company, location, salary])"
   ]
  },
  {
   "cell_type": "code",
   "execution_count": null,
   "id": "da85aebb",
   "metadata": {},
   "outputs": [],
   "source": [
    "# Create a DataFrame\n",
    "df = pd.DataFrame(jobs, columns=['Job Title', 'Company', 'Location', 'Salary'])\n",
    "\n",
    "# Save the DataFrame to a CSV file\n",
    "df.to_csv('data/job_market_data.csv', index=False)\n",
    "\n",
    "# Display the DataFrame\n",
    "df.head()"
   ]
  }
 ],
 "metadata": {
  "kernelspec": {
   "display_name": "Python 3 (ipykernel)",
   "language": "python",
   "name": "python3"
  },
  "language_info": {
   "codemirror_mode": {
    "name": "ipython",
    "version": 3
   },
   "file_extension": ".py",
   "mimetype": "text/x-python",
   "name": "python",
   "nbconvert_exporter": "python",
   "pygments_lexer": "ipython3",
   "version": "3.11.4"
  }
 },
 "nbformat": 4,
 "nbformat_minor": 5
}
